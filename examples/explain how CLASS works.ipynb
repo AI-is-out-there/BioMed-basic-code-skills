{
  "nbformat": 4,
  "nbformat_minor": 0,
  "metadata": {
    "colab": {
      "provenance": [],
      "authorship_tag": "ABX9TyPnfvn/4Jvfpn/IwxO09tZ9",
      "include_colab_link": true
    },
    "kernelspec": {
      "name": "python3",
      "display_name": "Python 3"
    },
    "language_info": {
      "name": "python"
    }
  },
  "cells": [
    {
      "cell_type": "markdown",
      "metadata": {
        "id": "view-in-github",
        "colab_type": "text"
      },
      "source": [
        "<a href=\"https://colab.research.google.com/github/AI-is-out-there/BioMed-basic-code-skills/blob/main/examples/explain%20how%20CLASS%20works.ipynb\" target=\"_parent\"><img src=\"https://colab.research.google.com/assets/colab-badge.svg\" alt=\"Open In Colab\"/></a>"
      ]
    },
    {
      "cell_type": "code",
      "source": [
        "import matplotlib.pyplot as plt\n",
        "import matplotlib.patches as patches\n",
        "from IPython.display import display, clear_output\n",
        "import time\n",
        "import random\n"
      ],
      "metadata": {
        "id": "-gkOsVY3TDPh"
      },
      "execution_count": 1,
      "outputs": []
    },
    {
      "cell_type": "code",
      "source": [
        "\n",
        "\n",
        "class Patient:\n",
        "    \"\"\"A simple class to represent a patient in healthcare\"\"\"\n",
        "\n",
        "    # Class variable - shared by all patients\n",
        "    hospital = \"City Hospital\"\n",
        "\n",
        "    def __init__(self, name, age):\n",
        "        \"\"\"Initialize patient with name and age\"\"\"\n",
        "        self.name = name          # Patient's name\n",
        "        self.age = age           # Patient's age\n",
        "        self.health = 50         # Health level (0-100)\n",
        "        self.medications = []    # List of medications\n",
        "\n",
        "    def give_medication(self, med_name):\n",
        "        \"\"\"Give medication to improve health\"\"\"\n",
        "        self.medications.append(med_name)\n",
        "        self.health = min(100, self.health + 20)  # Improve health\n",
        "        print(f\"Gave {med_name} to {self.name}. Health improved!\")\n",
        "\n",
        "    def do_checkup(self):\n",
        "        \"\"\"Perform health check\"\"\"\n",
        "        print(f\"Health check for {self.name}: {self.health}%\")\n",
        "        return self.health\n",
        "\n",
        "    def get_info(self):\n",
        "        \"\"\"Get patient information\"\"\"\n",
        "        return f\"{self.name}, Age: {self.age}, Health: {self.health}%\"\n",
        "\n",
        "    def draw_health_chart(self, ax):\n",
        "        \"\"\"Simple visualization of patient health\"\"\"\n",
        "        ax.clear()\n",
        "\n",
        "        # Draw health bar background\n",
        "        ax.add_patch(patches.Rectangle((0, 0), 10, 2, facecolor='lightgray'))\n",
        "\n",
        "        # Draw health level (green bar)\n",
        "        health_width = self.health / 10  # Scale to 0-10\n",
        "        ax.add_patch(patches.Rectangle((0, 0), health_width, 2, facecolor='green'))\n",
        "\n",
        "        # Add labels\n",
        "        ax.text(5, 2.5, f\"PATIENT: {self.name}\", ha='center', fontsize=12, fontweight='bold')\n",
        "        ax.text(5, 1, f\"Health: {self.health}%\", ha='center', fontsize=10)\n",
        "        ax.text(5, 0.5, f\"Age: {self.age}\", ha='center', fontsize=10)\n",
        "\n",
        "        # Show medications\n",
        "        meds_text = \"Medications: \" + (\", \".join(self.medications) if self.medications else \"None\")\n",
        "        ax.text(5, -0.5, meds_text, ha='center', fontsize=9)\n",
        "\n",
        "        ax.set_xlim(0, 10)\n",
        "        ax.set_ylim(-1, 3)\n",
        "        ax.axis('off')"
      ],
      "metadata": {
        "id": "IVEIoPe1TGKZ"
      },
      "execution_count": 4,
      "outputs": []
    },
    {
      "cell_type": "code",
      "execution_count": 7,
      "metadata": {
        "colab": {
          "base_uri": "https://localhost:8080/",
          "height": 623
        },
        "id": "subRzsz-S_bl",
        "outputId": "91af3708-3578-4e51-b5a8-74ed34f8740b"
      },
      "outputs": [
        {
          "output_type": "display_data",
          "data": {
            "text/plain": [
              "<Figure size 1200x400 with 2 Axes>"
            ],
            "image/png": "[encoded data removed]"
          },
          "metadata": {}
        },
        {
          "output_type": "stream",
          "name": "stdout",
          "text": [
            "\n",
            "=== FINAL RESULTS ===\n",
            "Patient 1: John Smith, Age: 45, Health: 90%\n",
            "Medications: Blood Pressure Pills, Vitamins\n",
            "\n",
            "Patient 2: Mary Johnson, Age: 32, Health: 70%\n",
            "Medications: Antibiotics\n",
            "\n",
            "=== CLASS EXPLANATION ===\n",
            "1. CLASS: 'Patient' is like a blueprint for creating patients\n",
            "2. OBJECTS: patient1 and patient2 are individual patients created from the blueprint\n",
            "3. ATTRIBUTES: name, age, health, medications belong to each patient\n",
            "4. METHODS: give_medication() and do_checkup() are actions patients can do\n",
            "5. CLASS VARIABLE: 'hospital' is shared by ALL patients\n"
          ]
        }
      ],
      "source": [
        "# Create patient instances\n",
        "print(\"=== HEALTHCARE PATIENT EXAMPLE ===\\n\")\n",
        "\n",
        "patient1 = Patient(\"John Smith\", 45)\n",
        "patient2 = Patient(\"Mary Johnson\", 32)\n",
        "\n",
        "print(\"Created two patients:\")\n",
        "print(f\"Patient 1: {patient1.get_info()}\")\n",
        "print(f\"Patient 2: {patient2.get_info()}\")\n",
        "print(f\"Hospital: {patient1.hospital}\\n\")\n",
        "\n",
        "# Set up simple visualization\n",
        "fig, (ax1, ax2) = plt.subplots(1, 2, figsize=(12, 4))\n",
        "patient1.draw_health_chart(ax1)\n",
        "patient2.draw_health_chart(ax2)\n",
        "plt.title(\"Initial Patient Health Status\", pad=20)\n",
        "plt.tight_layout()\n",
        "plt.show()\n",
        "\n",
        "print(\"--- Treating Patients ---\\n\")\n",
        "\n",
        "# Interactive demonstration\n",
        "print(\"1. Giving medication to Patient 1...\")\n",
        "patient1.give_medication(\"Blood Pressure Pills\")\n",
        "patient1.draw_health_chart(ax1)\n",
        "patient2.draw_health_chart(ax2)\n",
        "clear_output(wait=True)\n",
        "display(fig)\n",
        "time.sleep(1)\n",
        "\n",
        "print(\"\\n2. Giving more medication to Patient 1...\")\n",
        "patient1.give_medication(\"Vitamins\")\n",
        "patient1.draw_health_chart(ax1)\n",
        "clear_output(wait=True)\n",
        "display(fig)\n",
        "time.sleep(1)\n",
        "\n",
        "print(\"\\n3. Giving medication to Patient 2...\")\n",
        "patient2.give_medication(\"Antibiotics\")\n",
        "patient2.draw_health_chart(ax2)\n",
        "clear_output(wait=True)\n",
        "display(fig)\n",
        "time.sleep(1)\n",
        "\n",
        "# Show final results\n",
        "print(\"\\n=== FINAL RESULTS ===\")\n",
        "print(f\"Patient 1: {patient1.get_info()}\")\n",
        "print(f\"Medications: {', '.join(patient1.medications)}\")\n",
        "print()\n",
        "print(f\"Patient 2: {patient2.get_info()}\")\n",
        "print(f\"Medications: {', '.join(patient2.medications)}\")\n",
        "\n",
        "# Show final visualization\n",
        "patient1.draw_health_chart(ax1)\n",
        "patient2.draw_health_chart(ax2)\n",
        "#plt.title(\"Final Patient Health Status\", pad=20)\n",
        "#plt.tight_layout()\n",
        "#plt.show()\n",
        "\n",
        "print(\"\\n=== CLASS EXPLANATION ===\")\n",
        "print(\"1. CLASS: 'Patient' is like a blueprint for creating patients\")\n",
        "print(\"2. OBJECTS: patient1 and patient2 are individual patients created from the blueprint\")\n",
        "print(\"3. ATTRIBUTES: name, age, health, medications belong to each patient\")\n",
        "print(\"4. METHODS: give_medication() and do_checkup() are actions patients can do\")\n",
        "print(\"5. CLASS VARIABLE: 'hospital' is shared by ALL patients\")"
      ]
    },
    {
      "cell_type": "code",
      "source": [],
      "metadata": {
        "id": "bxOMus3-TuOu"
      },
      "execution_count": null,
      "outputs": []
    }
  ]
}